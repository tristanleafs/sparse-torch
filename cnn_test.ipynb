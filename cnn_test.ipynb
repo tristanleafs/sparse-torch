{
 "cells": [
  {
   "cell_type": "code",
   "execution_count": 1,
   "metadata": {},
   "outputs": [
    {
     "name": "stderr",
     "output_type": "stream",
     "text": [
      "C:\\Users\\trist\\anaconda3\\envs\\env_torch\\lib\\site-packages\\torchvision\\io\\image.py:11: UserWarning: Failed to load image Python extension: Could not find module 'C:\\Users\\trist\\anaconda3\\envs\\env_torch\\Lib\\site-packages\\torchvision\\image.pyd' (or one of its dependencies). Try using the full path with constructor syntax.\n",
      "  warn(f\"Failed to load image Python extension: {e}\")\n"
     ]
    }
   ],
   "source": [
    "# PyTorch Modules you need for this lab\n",
    "\n",
    "from torch.utils.data import Dataset, DataLoader\n",
    "import torch \n",
    "import torch.nn as nn\n",
    "import torchvision.transforms as transforms\n",
    "import torchvision.datasets as dsets\n",
    "\n",
    "\n",
    "# Other non-PyTorch Modules\n",
    "\n",
    "from matplotlib.pyplot import imshow\n",
    "import matplotlib.pylab as plt"
   ]
  },
  {
   "cell_type": "code",
   "execution_count": 2,
   "metadata": {},
   "outputs": [],
   "source": [
    "labels = [\"T-shirt/top\", \"Trouser\", \"Pullover\", \"Dress\", \"Coat\", \"Sandal\", \"Shirt\", \"Sneaker\", \"Bag\", \"Ankle boot\"]\n",
    "\n",
    "def show_data(data_sample, size):\n",
    "    plt.imshow(data_sample[0].numpy().reshape(size, size), cmap='gray')\n",
    "    plt.title(f\"Real Label = {labels[data_sample[1]]}\")"
   ]
  },
  {
   "cell_type": "code",
   "execution_count": 3,
   "metadata": {},
   "outputs": [],
   "source": [
    "class RandomSparse(object):\n",
    "    \"\"\"\n",
    "    \"\"\"\n",
    "\n",
    "    def __init__(self):\n",
    "        pass\n",
    "\n",
    "    def __call__(self, sample):\n",
    "        # image, label = sample['image'], sample['label']\n",
    "\n",
    "        temp = (torch.rand(size=sample.shape) < 0.5).float()\n",
    "        return sample*temp\n",
    "\n",
    "        # return {'image': torch.multiply(image,temp), 'label': label}"
   ]
  },
  {
   "cell_type": "code",
   "execution_count": 4,
   "metadata": {},
   "outputs": [],
   "source": [
    "\n",
    "IMAGE_SIZE = 24\n",
    "#Generates an object to store multiple transformations\n",
    "\n",
    "composed = transforms.Compose(\n",
    "    [transforms.Resize((IMAGE_SIZE, IMAGE_SIZE)),\n",
    "    transforms.ToTensor(),\n",
    "    RandomSparse()\n",
    "    ])"
   ]
  },
  {
   "cell_type": "code",
   "execution_count": 5,
   "metadata": {},
   "outputs": [],
   "source": [
    "#Creating the two dataset objects and applying our transformations from above\n",
    "\n",
    "dataset_train = dsets.FashionMNIST(root= '.fashion/data', train=True, transform=composed,  download=True)\n",
    "  \n",
    "dataset_val = dsets.FashionMNIST(root= '.fashion/data', train=False, transform=composed,  download=True)"
   ]
  },
  {
   "cell_type": "code",
   "execution_count": 6,
   "metadata": {},
   "outputs": [
    {
     "data": {
      "image/png": "[encoded data removed]",
      "text/plain": [
       "<Figure size 432x288 with 1 Axes>"
      ]
     },
     "metadata": {
      "needs_background": "light"
     },
     "output_type": "display_data"
    },
    {
     "data": {
      "image/png": "[encoded data removed]",
      "text/plain": [
       "<Figure size 432x288 with 1 Axes>"
      ]
     },
     "metadata": {
      "needs_background": "light"
     },
     "output_type": "display_data"
    }
   ],
   "source": [
    "for n,data_sample in enumerate(dataset_val):\n",
    "\n",
    "    show_data(data_sample, IMAGE_SIZE)\n",
    "    plt.show()\n",
    "    if n==1:\n",
    "        break "
   ]
  },
  {
   "cell_type": "code",
   "execution_count": 7,
   "metadata": {},
   "outputs": [],
   "source": [
    "#Every PyTorch model must inherit from torch.nn.Module\n",
    "#nn.Module has very useful functions for models\n",
    "class CNN(nn.Module):\n",
    "    \n",
    "    # Constructor: (out_1: Output channels of first CNN Layer), (out_2: Output channels of second CNN Layer), (number_of_classes: Number of classes to detect)\n",
    "    def __init__(self, out_1=16, out_2=64, number_of_classes=10):\n",
    "        super().__init__()\n",
    "        #Create first Convolution Layer with input of 1 channel (grayscale) and output of out_1 channels\n",
    "        self.cnn1 = nn.Conv2d(in_channels=1, out_channels=out_1, kernel_size=5, padding=2)\n",
    "\n",
    "        \n",
    "        \n",
    "\n",
    "\n",
    "        #Create a fully connected layer for the CNN. The input shape is the flattened convolution output. If output is (3, 28, 28), input is 28 * 28 * 3.\n",
    "        self.flat = nn.Flatten()\n",
    "        self.fc1 = nn.Linear(out_2 * 4 * 4, number_of_classes)\n",
    "\n",
    "        # Prediction (x is input)\n",
    "\t# The forward function is automatically called when we create an instance of the class and call it.\n",
    "    def forward(self, x):\n",
    "        x = self.cnn1(x)\n",
    "     \n",
    "        \n",
    "        #Flattening cnn2's output and passing it into a fully connected layer\n",
    "        # x = x.view(x.size(0), -1)\n",
    "        x = self.flat(x)\n",
    "        x = self.fc1(x)"
   ]
  },
  {
   "cell_type": "code",
   "execution_count": 8,
   "metadata": {},
   "outputs": [],
   "source": [
    "#Data Loader for training data\n",
    "train_loader = torch.utils.data.DataLoader(dataset=dataset_train, batch_size=100 )\n",
    "\n",
    "#Data Loader for validation data\n",
    "test_loader = torch.utils.data.DataLoader(dataset=dataset_val, batch_size=100 )"
   ]
  },
  {
   "cell_type": "code",
   "execution_count": 9,
   "metadata": {},
   "outputs": [],
   "source": [
    "#Creating the model\n",
    "model = nn.Sequential(\n",
    "    nn.Conv2d(1, 1, 3),\n",
    "    nn.ReLU(),\n",
    "\n",
    "    nn.Flatten(),\n",
    "    nn.Linear(484, 10)\n",
    ")\n",
    "\n",
    "#Creating an Adam optimizer with a learning rate of 0.002\n",
    "optimizer = torch.optim.Adam(model.parameters(), lr = 0.002)\n",
    "\n",
    "#Use Cross Entropy Loss since this is a classification problem\n",
    "criterion = nn.CrossEntropyLoss()"
   ]
  },
  {
   "cell_type": "code",
   "execution_count": 10,
   "metadata": {},
   "outputs": [
    {
     "name": "stdout",
     "output_type": "stream",
     "text": [
      "\n",
      "Epoch no. 0\n"
     ]
    },
    {
     "name": "stderr",
     "output_type": "stream",
     "text": [
      "100%|██████████| 600/600 [00:10<00:00, 59.62it/s]\n"
     ]
    },
    {
     "name": "stdout",
     "output_type": "stream",
     "text": [
      "Training accuracy: 0.7099666666666666\n",
      "Validation accuracy: 0.7517\n",
      "\n",
      "Epoch no. 1\n"
     ]
    },
    {
     "name": "stderr",
     "output_type": "stream",
     "text": [
      "100%|██████████| 600/600 [00:09<00:00, 60.06it/s]\n"
     ]
    },
    {
     "name": "stdout",
     "output_type": "stream",
     "text": [
      "Training accuracy: 0.7780666666666667\n",
      "Validation accuracy: 0.7661\n",
      "\n",
      "Epoch no. 2\n"
     ]
    },
    {
     "name": "stderr",
     "output_type": "stream",
     "text": [
      "100%|██████████| 600/600 [00:10<00:00, 59.56it/s]\n"
     ]
    },
    {
     "name": "stdout",
     "output_type": "stream",
     "text": [
      "Training accuracy: 0.7838666666666667\n",
      "Validation accuracy: 0.775\n",
      "\n",
      "Epoch no. 3\n"
     ]
    },
    {
     "name": "stderr",
     "output_type": "stream",
     "text": [
      "100%|██████████| 600/600 [00:09<00:00, 60.77it/s]\n"
     ]
    },
    {
     "name": "stdout",
     "output_type": "stream",
     "text": [
      "Training accuracy: 0.7875833333333333\n",
      "Validation accuracy: 0.7765\n",
      "\n",
      "Epoch no. 4\n"
     ]
    },
    {
     "name": "stderr",
     "output_type": "stream",
     "text": [
      "100%|██████████| 600/600 [00:09<00:00, 60.34it/s]\n"
     ]
    },
    {
     "name": "stdout",
     "output_type": "stream",
     "text": [
      "Training accuracy: 0.7886666666666666\n",
      "Validation accuracy: 0.7792\n"
     ]
    }
   ],
   "source": [
    "# To show a progress bar while training\n",
    "from tqdm import tqdm\n",
    "\n",
    "training_acc_list=[]\n",
    "val_acc_list=[]\n",
    "N_test=len(dataset_val)\n",
    "N_train = len(dataset_train)\n",
    "n_epochs=5\n",
    "\n",
    "for epoch in range(n_epochs):\n",
    "    #Count how many predictions were correct\n",
    "    correct = 0\n",
    "\n",
    "    print()\n",
    "    print(f\"Epoch no. {epoch}\")\n",
    "    #Put model into training mode (uses Dropout if there are Dropout layers)\n",
    "    model.train()\n",
    "    #Loop over each sample in the dataloaders.\n",
    "    for x, y in tqdm(train_loader):\n",
    "        #Zero the optimizer gradients (PyTorch requires this.)\n",
    "        optimizer.zero_grad()\n",
    "        #Make a prediction\n",
    "        y_hat = model(x)\n",
    "        #Calculate the loss with the criterion\n",
    "        loss = criterion(y_hat, y)\n",
    "        #Initiate backpropagation/calculate derivatives of parameters with respect to the loss.\n",
    "        loss.backward()\n",
    "        #Update parameters\n",
    "        optimizer.step()\n",
    "        \n",
    "        #Update correct counter\n",
    "        #Grab the index of the AI's highest probability guess (Each output of model(x) is a tensor of probabilities) \n",
    "        correct += (torch.argmax(y_hat, 1) == y).sum().item()\n",
    "        \n",
    "    #Calculate accuracy\n",
    "    accuracy = correct / N_train\n",
    "    print(\"Training accuracy: \" + str(accuracy))\n",
    "    training_acc_list.append(accuracy)\n",
    "\n",
    "    correct=0\n",
    "    \n",
    "    #Put model into validation mode (turns off Dropout if there are Dropout layers)\n",
    "    model.eval()\n",
    "    for x_test, y_test in test_loader:\n",
    "        #Make a prediction\n",
    "        z = model(x_test)\n",
    "        #Grab the index of the AI's highest probability guess (Each output of model(x) is a tensor of probabilities) \n",
    "        y_hat = torch.argmax(z, 1)\n",
    "        #Update correct counter if the prediction was correct\n",
    "        correct += (y_hat == y_test).sum().item()\n",
    "    accuracy = correct / N_test\n",
    "    print(\"Validation accuracy: \" + str(accuracy))\n",
    "    val_acc_list.append(accuracy)"
   ]
  }
 ],
 "metadata": {
  "interpreter": {
   "hash": "c74322094aab99573c56dbb21d7e1901a2c3b2c7428609116d3e4a163cd557a7"
  },
  "kernelspec": {
   "display_name": "Python 3.9.7 ('env_torch')",
   "language": "python",
   "name": "python3"
  },
  "language_info": {
   "codemirror_mode": {
    "name": "ipython",
    "version": 3
   },
   "file_extension": ".py",
   "mimetype": "text/x-python",
   "name": "python",
   "nbconvert_exporter": "python",
   "pygments_lexer": "ipython3",
   "version": "3.9.7"
  },
  "orig_nbformat": 4
 },
 "nbformat": 4,
 "nbformat_minor": 2
}
