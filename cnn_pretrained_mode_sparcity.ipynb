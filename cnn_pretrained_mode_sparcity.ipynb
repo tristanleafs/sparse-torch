{
 "cells": [
  {
   "cell_type": "code",
   "execution_count": 2,
   "metadata": {},
   "outputs": [],
   "source": [
    "import torch\n",
    "import numpy as np\n",
    "\n",
    "from custom_classes import Save_Output\n"
   ]
  },
  {
   "cell_type": "code",
   "execution_count": 3,
   "metadata": {},
   "outputs": [],
   "source": [
    "model_old = torch.load('models/basic_model2')"
   ]
  },
  {
   "cell_type": "code",
   "execution_count": 4,
   "metadata": {},
   "outputs": [
    {
     "data": {
      "text/plain": [
       "'Sequential(\\n  (0): Conv2d(1, 5, kernel_size=(3, 3), stride=(1, 1))\\n  (1): ReLU()\\n  (2): Conv2d(5, 10, kernel_size=(3, 3), stride=(1, 1))\\n  (3): ReLU()\\n  (4): Conv2d(10, 5, kernel_size=(3, 3), stride=(1, 1))\\n  (5): ReLU()\\n  (6): MaxPool2d(kernel_size=3, stride=3, padding=0, dilation=1, ceil_mode=False)\\n  (7): Conv2d(5, 1, kernel_size=(3, 3), stride=(1, 1))\\n  (8): ReLU()\\n  (9): Flatten(start_dim=1, end_dim=-1)\\n  (10): Linear(in_features=289, out_features=10, bias=True)\\n)'"
      ]
     },
     "execution_count": 4,
     "metadata": {},
     "output_type": "execute_result"
    }
   ],
   "source": [
    "repr(model_old)"
   ]
  },
  {
   "cell_type": "code",
   "execution_count": 5,
   "metadata": {},
   "outputs": [],
   "source": [
    "model_new = torch.nn.Sequential()\n",
    "layers = []\n",
    "for layer, child in enumerate(model_old.children()):\n",
    "    filename = \"layer_\" + str(layer) + \".csv\"\n",
    "    model_new  = torch.nn.Sequential(\n",
    "        model_new,\n",
    "        Save_Output(filename),\n",
    "        child\n",
    "    )\n",
    "    layers.append(str(child))"
   ]
  },
  {
   "cell_type": "code",
   "execution_count": 6,
   "metadata": {},
   "outputs": [
    {
     "data": {
      "text/plain": [
       "'Sequential(\\n  (0): Sequential(\\n    (0): Sequential(\\n      (0): Sequential(\\n        (0): Sequential(\\n          (0): Sequential(\\n            (0): Sequential(\\n              (0): Sequential(\\n                (0): Sequential(\\n                  (0): Sequential(\\n                    (0): Sequential(\\n                      (0): Sequential()\\n                      (1): Save_Output()\\n                      (2): Conv2d(1, 5, kernel_size=(3, 3), stride=(1, 1))\\n                    )\\n                    (1): Save_Output()\\n                    (2): ReLU()\\n                  )\\n                  (1): Save_Output()\\n                  (2): Conv2d(5, 10, kernel_size=(3, 3), stride=(1, 1))\\n                )\\n                (1): Save_Output()\\n                (2): ReLU()\\n              )\\n              (1): Save_Output()\\n              (2): Conv2d(10, 5, kernel_size=(3, 3), stride=(1, 1))\\n            )\\n            (1): Save_Output()\\n            (2): ReLU()\\n          )\\n          (1): Save_Output()\\n          (2): MaxPool2d(kernel_size=3, stride=3, padding=0, dilation=1, ceil_mode=False)\\n        )\\n        (1): Save_Output()\\n        (2): Conv2d(5, 1, kernel_size=(3, 3), stride=(1, 1))\\n      )\\n      (1): Save_Output()\\n      (2): ReLU()\\n    )\\n    (1): Save_Output()\\n    (2): Flatten(start_dim=1, end_dim=-1)\\n  )\\n  (1): Save_Output()\\n  (2): Linear(in_features=289, out_features=10, bias=True)\\n)'"
      ]
     },
     "execution_count": 6,
     "metadata": {},
     "output_type": "execute_result"
    }
   ],
   "source": [
    "repr(model_new)"
   ]
  },
  {
   "cell_type": "code",
   "execution_count": 7,
   "metadata": {},
   "outputs": [
    {
     "name": "stderr",
     "output_type": "stream",
     "text": [
      "C:\\Users\\trist\\anaconda3\\envs\\env_torch\\lib\\site-packages\\torchvision\\io\\image.py:11: UserWarning: Failed to load image Python extension: Could not find module 'C:\\Users\\trist\\anaconda3\\envs\\env_torch\\Lib\\site-packages\\torchvision\\image.pyd' (or one of its dependencies). Try using the full path with constructor syntax.\n",
      "  warn(f\"Failed to load image Python extension: {e}\")\n"
     ]
    }
   ],
   "source": [
    "import torch.nn as nn\n",
    "import torchvision.transforms as transforms\n",
    "import torchvision.datasets as dsets"
   ]
  },
  {
   "cell_type": "code",
   "execution_count": 8,
   "metadata": {},
   "outputs": [],
   "source": [
    "IMAGE_SIZE = 64\n",
    "#Generates an object to store multiple transformations\n",
    "\n",
    "composed = transforms.Compose(\n",
    "    [transforms.Resize((IMAGE_SIZE, IMAGE_SIZE)),\n",
    "    transforms.ToTensor()\n",
    "    ])"
   ]
  },
  {
   "cell_type": "code",
   "execution_count": 9,
   "metadata": {},
   "outputs": [],
   "source": [
    "#Creating the two dataset objects and applying our transformations from above\n",
    "\n",
    "dataset_train = dsets.FashionMNIST(root= '.fashion/data', train=True, transform=composed,  download=True)\n",
    "  \n",
    "dataset_val = dsets.FashionMNIST(root= '.fashion/data', train=False, transform=composed,  download=True)"
   ]
  },
  {
   "cell_type": "code",
   "execution_count": 10,
   "metadata": {},
   "outputs": [],
   "source": [
    "#Data Loader for training data\n",
    "train_loader = torch.utils.data.DataLoader(dataset=dataset_train, batch_size=100 )\n",
    "\n",
    "#Data Loader for validation data\n",
    "test_loader = torch.utils.data.DataLoader(dataset=dataset_val, batch_size=100 )"
   ]
  },
  {
   "cell_type": "code",
   "execution_count": 11,
   "metadata": {},
   "outputs": [
    {
     "name": "stdout",
     "output_type": "stream",
     "text": [
      "Validation accuracy: 0.8414\n"
     ]
    }
   ],
   "source": [
    "model = model_old\n",
    "correct=0\n",
    "N_test=len(dataset_val)\n",
    "\n",
    "#Put model into validation mode (turns off Dropout if there are Dropout layers)\n",
    "model.eval()\n",
    "for x_test, y_test in test_loader:\n",
    "    #Make a prediction\n",
    "    z = model(x_test)\n",
    "    #Grab the index of the AI's highest probability guess (Each output of model(x) is a tensor of probabilities) \n",
    "    y_hat = torch.argmax(z, 1)\n",
    "    #Update correct counter if the prediction was correct\n",
    "    correct += (y_hat == y_test).sum().item()\n",
    "accuracy = correct / N_test\n",
    "print(\"Validation accuracy: \" + str(accuracy))"
   ]
  },
  {
   "cell_type": "code",
   "execution_count": 12,
   "metadata": {},
   "outputs": [
    {
     "name": "stdout",
     "output_type": "stream",
     "text": [
      "Validation accuracy: 0.8414\n"
     ]
    }
   ],
   "source": [
    "model = model_new\n",
    "correct=0\n",
    "N_test=len(dataset_val)\n",
    "\n",
    "#Put model into validation mode (turns off Dropout if there are Dropout layers)\n",
    "model.eval()\n",
    "for x_test, y_test in test_loader:\n",
    "    #Make a prediction\n",
    "    z = model(x_test)\n",
    "    #Grab the index of the AI's highest probability guess (Each output of model(x) is a tensor of probabilities) \n",
    "    y_hat = torch.argmax(z, 1)\n",
    "    #Update correct counter if the prediction was correct\n",
    "    correct += (y_hat == y_test).sum().item()\n",
    "accuracy = correct / N_test\n",
    "print(\"Validation accuracy: \" + str(accuracy))"
   ]
  },
  {
   "cell_type": "code",
   "execution_count": 13,
   "metadata": {},
   "outputs": [],
   "source": [
    "files = []\n",
    "for i in range(len(layers)):\n",
    "    filename = \"layer_\" + str(i) +\".csv\"\n",
    "    files.append(open(filename, 'r'))\n",
    "\n",
    "data = []\n",
    "for file in files:\n",
    "    data.append( [float(s) for s in file.readline().split(sep=',') if '.' in s])\n"
   ]
  },
  {
   "cell_type": "code",
   "execution_count": 14,
   "metadata": {},
   "outputs": [],
   "source": [
    "import pandas as pd\n",
    "# my_data = {}\n",
    "# for index, values in enumerate(data):\n",
    "#     name = \"layer \" + str(index)\n",
    "#     my_data[name] = np.array(values).mean()\n",
    "\n",
    "new_data = [np.array(i).mean() for i in data]\n",
    "\n",
    "df = pd.DataFrame(new_data)"
   ]
  },
  {
   "cell_type": "code",
   "execution_count": 15,
   "metadata": {},
   "outputs": [
    {
     "data": {
      "text/plain": [
       "Text(0, 0.5, 'sparcity')"
      ]
     },
     "execution_count": 15,
     "metadata": {},
     "output_type": "execute_result"
    },
    {
     "data": {
      "image/png": "[encoded data removed]",
      "text/plain": [
       "<Figure size 432x288 with 1 Axes>"
      ]
     },
     "metadata": {
      "needs_background": "light"
     },
     "output_type": "display_data"
    }
   ],
   "source": [
    "import matplotlib.pyplot as plt\n",
    "df.plot()\n",
    "plt.grid()\n",
    "plt.xlabel(\"layer\")\n",
    "plt.ylabel(\"sparcity\")\n"
   ]
  },
  {
   "cell_type": "code",
   "execution_count": 16,
   "metadata": {},
   "outputs": [],
   "source": [
    "import os\n",
    "for file in files:\n",
    "    file.close()\n",
    "    os.remove(file.name)"
   ]
  },
  {
   "cell_type": "code",
   "execution_count": 17,
   "metadata": {},
   "outputs": [],
   "source": [
    "df = pd.DataFrame(new_data, index=layers)"
   ]
  },
  {
   "cell_type": "code",
   "execution_count": 18,
   "metadata": {},
   "outputs": [
    {
     "data": {
      "text/html": [
       "<div>\n",
       "<style scoped>\n",
       "    .dataframe tbody tr th:only-of-type {\n",
       "        vertical-align: middle;\n",
       "    }\n",
       "\n",
       "    .dataframe tbody tr th {\n",
       "        vertical-align: top;\n",
       "    }\n",
       "\n",
       "    .dataframe thead th {\n",
       "        text-align: right;\n",
       "    }\n",
       "</style>\n",
       "<table border=\"1\" class=\"dataframe\">\n",
       "  <thead>\n",
       "    <tr style=\"text-align: right;\">\n",
       "      <th></th>\n",
       "      <th>0</th>\n",
       "    </tr>\n",
       "  </thead>\n",
       "  <tbody>\n",
       "    <tr>\n",
       "      <th>Conv2d(1, 5, kernel_size=(3, 3), stride=(1, 1))</th>\n",
       "      <td>0.429789</td>\n",
       "    </tr>\n",
       "    <tr>\n",
       "      <th>ReLU()</th>\n",
       "      <td>0.000000</td>\n",
       "    </tr>\n",
       "    <tr>\n",
       "      <th>Conv2d(5, 10, kernel_size=(3, 3), stride=(1, 1))</th>\n",
       "      <td>0.396135</td>\n",
       "    </tr>\n",
       "    <tr>\n",
       "      <th>ReLU()</th>\n",
       "      <td>0.000000</td>\n",
       "    </tr>\n",
       "    <tr>\n",
       "      <th>Conv2d(10, 5, kernel_size=(3, 3), stride=(1, 1))</th>\n",
       "      <td>0.538690</td>\n",
       "    </tr>\n",
       "    <tr>\n",
       "      <th>ReLU()</th>\n",
       "      <td>0.000000</td>\n",
       "    </tr>\n",
       "    <tr>\n",
       "      <th>MaxPool2d(kernel_size=3, stride=3, padding=0, dilation=1, ceil_mode=False)</th>\n",
       "      <td>0.539453</td>\n",
       "    </tr>\n",
       "    <tr>\n",
       "      <th>Conv2d(5, 1, kernel_size=(3, 3), stride=(1, 1))</th>\n",
       "      <td>0.468058</td>\n",
       "    </tr>\n",
       "    <tr>\n",
       "      <th>ReLU()</th>\n",
       "      <td>0.000000</td>\n",
       "    </tr>\n",
       "    <tr>\n",
       "      <th>Flatten(start_dim=1, end_dim=-1)</th>\n",
       "      <td>0.283542</td>\n",
       "    </tr>\n",
       "    <tr>\n",
       "      <th>Linear(in_features=289, out_features=10, bias=True)</th>\n",
       "      <td>0.283542</td>\n",
       "    </tr>\n",
       "  </tbody>\n",
       "</table>\n",
       "</div>"
      ],
      "text/plain": [
       "                                                           0\n",
       "Conv2d(1, 5, kernel_size=(3, 3), stride=(1, 1))     0.429789\n",
       "ReLU()                                              0.000000\n",
       "Conv2d(5, 10, kernel_size=(3, 3), stride=(1, 1))    0.396135\n",
       "ReLU()                                              0.000000\n",
       "Conv2d(10, 5, kernel_size=(3, 3), stride=(1, 1))    0.538690\n",
       "ReLU()                                              0.000000\n",
       "MaxPool2d(kernel_size=3, stride=3, padding=0, d...  0.539453\n",
       "Conv2d(5, 1, kernel_size=(3, 3), stride=(1, 1))     0.468058\n",
       "ReLU()                                              0.000000\n",
       "Flatten(start_dim=1, end_dim=-1)                    0.283542\n",
       "Linear(in_features=289, out_features=10, bias=T...  0.283542"
      ]
     },
     "execution_count": 18,
     "metadata": {},
     "output_type": "execute_result"
    }
   ],
   "source": [
    "df"
   ]
  },
  {
   "cell_type": "code",
   "execution_count": 19,
   "metadata": {},
   "outputs": [
    {
     "name": "stdout",
     "output_type": "stream",
     "text": [
      "11\n"
     ]
    }
   ],
   "source": [
    "print(len(layers))"
   ]
  },
  {
   "cell_type": "code",
   "execution_count": 20,
   "metadata": {},
   "outputs": [
    {
     "data": {
      "text/plain": [
       "Sequential(\n",
       "  (0): Sequential(\n",
       "    (0): Sequential(\n",
       "      (0): Sequential(\n",
       "        (0): Sequential(\n",
       "          (0): Sequential(\n",
       "            (0): Sequential(\n",
       "              (0): Sequential(\n",
       "                (0): Sequential(\n",
       "                  (0): Sequential(\n",
       "                    (0): Sequential(\n",
       "                      (0): Sequential()\n",
       "                      (1): Save_Output()\n",
       "                      (2): Conv2d(1, 5, kernel_size=(3, 3), stride=(1, 1))\n",
       "                    )\n",
       "                    (1): Save_Output()\n",
       "                    (2): ReLU()\n",
       "                  )\n",
       "                  (1): Save_Output()\n",
       "                  (2): Conv2d(5, 10, kernel_size=(3, 3), stride=(1, 1))\n",
       "                )\n",
       "                (1): Save_Output()\n",
       "                (2): ReLU()\n",
       "              )\n",
       "              (1): Save_Output()\n",
       "              (2): Conv2d(10, 5, kernel_size=(3, 3), stride=(1, 1))\n",
       "            )\n",
       "            (1): Save_Output()\n",
       "            (2): ReLU()\n",
       "          )\n",
       "          (1): Save_Output()\n",
       "          (2): MaxPool2d(kernel_size=3, stride=3, padding=0, dilation=1, ceil_mode=False)\n",
       "        )\n",
       "        (1): Save_Output()\n",
       "        (2): Conv2d(5, 1, kernel_size=(3, 3), stride=(1, 1))\n",
       "      )\n",
       "      (1): Save_Output()\n",
       "      (2): ReLU()\n",
       "    )\n",
       "    (1): Save_Output()\n",
       "    (2): Flatten(start_dim=1, end_dim=-1)\n",
       "  )\n",
       "  (1): Save_Output()\n",
       "  (2): Linear(in_features=289, out_features=10, bias=True)\n",
       ")"
      ]
     },
     "execution_count": 20,
     "metadata": {},
     "output_type": "execute_result"
    }
   ],
   "source": [
    "model_new.eval()"
   ]
  }
 ],
 "metadata": {
  "interpreter": {
   "hash": "c74322094aab99573c56dbb21d7e1901a2c3b2c7428609116d3e4a163cd557a7"
  },
  "kernelspec": {
   "display_name": "Python 3.9.7 ('env_torch')",
   "language": "python",
   "name": "python3"
  },
  "language_info": {
   "codemirror_mode": {
    "name": "ipython",
    "version": 3
   },
   "file_extension": ".py",
   "mimetype": "text/x-python",
   "name": "python",
   "nbconvert_exporter": "python",
   "pygments_lexer": "ipython3",
   "version": "3.9.7"
  },
  "orig_nbformat": 4
 },
 "nbformat": 4,
 "nbformat_minor": 2
}
